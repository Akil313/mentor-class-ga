{
 "cells": [
  {
   "cell_type": "code",
   "execution_count": 163,
   "id": "ada64320-8dd1-4de2-8c07-55d08a3fba7b",
   "metadata": {},
   "outputs": [],
   "source": [
    "import os\n",
    "import copy\n",
    "import random\n",
    "import math"
   ]
  },
  {
   "cell_type": "code",
   "execution_count": 177,
   "id": "3ce7f619",
   "metadata": {},
   "outputs": [],
   "source": [
    "class City:\n",
    "    \n",
    "    def __init__(self, city):\n",
    "        self.number = city[0]\n",
    "        self.x = city[1]\n",
    "        self.y = city[2]\n",
    "        \n",
    "    def __repr__(self):\n",
    "        return f'({self.x},{self.y})'\n",
    "        \n",
    "    def __str__(self):\n",
    "        return f'City No:{self.number}, X:{self.x}, Y:{self.y}'\n",
    "\n",
    "\n",
    "class TSP:\n",
    "    def __init__(self, path) -> None:\n",
    "        self.cities = []\n",
    "        self.init_tsp(path)\n",
    "        \n",
    "    def init_tsp(self, path):\n",
    "        file = open(f'tsp_files/vlsi/{path}/{path}.tsp').readlines()\n",
    "        \n",
    "        self.name = file[0]\n",
    "        self.size = int(file[5].split(\" \")[-1].replace('\\n', ''))\n",
    "        \n",
    "        for city_line in file[8:-1]:\n",
    "            city = city_line.split(\" \")\n",
    "            city[1] = int(city[1])\n",
    "            city[2] = int(city[2].replace('\\n', ''))\n",
    "            \n",
    "            self.cities.append(City(city))\n",
    "            \n",
    "        self.cities.append(self.cities[0])\n",
    "        \n",
    "    def set_cities(self, cities):\n",
    "        self.cities = cities\n",
    "        \n",
    "    def get_cities(self):\n",
    "        return copy.deepcopy(self.cities)"
   ]
  },
  {
   "cell_type": "code",
   "execution_count": 267,
   "id": "32e8799b",
   "metadata": {},
   "outputs": [],
   "source": [
    "class Chromosome:\n",
    "    \n",
    "    def __init__(self, cities):\n",
    "        \n",
    "        self.cities = cities\n",
    "        self.fitness = None\n",
    "        \n",
    "    def __repr__(self):\n",
    "        return f\"(Fitness: {self.fitness}, {self.cities[:2]} ... {self.cities[-2:]})\"\n",
    "    \n",
    "    def __str__(self):\n",
    "        return f\"Fitness: {self.fitness}\\n{self.cities}\"\n",
    "    \n",
    "    def set_fitness(self, fitness):\n",
    "        self.fitness = fitness\n",
    "\n",
    "class GeneticAlgorithm:\n",
    "    \n",
    "    def __init__(self, pop_size, tsp):\n",
    "        self.POP_SIZE = pop_size\n",
    "        self.population = []\n",
    "        \n",
    "        self.init_population(tsp)\n",
    "        \n",
    "    def init_population(self, tsp):\n",
    "        \n",
    "        for i in range(self.POP_SIZE):\n",
    "            temp_tsp = copy.deepcopy(tsp)\n",
    "            temp_city_list = temp_tsp.get_cities()\n",
    "            start_city = temp_city_list[0]\n",
    "            temp_city_list = temp_city_list[1:-1]\n",
    "            \n",
    "            random.shuffle(temp_city_list)\n",
    "            temp_city_list.insert(0, start_city)\n",
    "            temp_city_list.insert(len(temp_city_list), start_city)\n",
    "            \n",
    "#             temp_tsp.set_cities(temp_city_list)\n",
    "\n",
    "            chrm = Chromosome(temp_city_list)\n",
    "            \n",
    "            self.population.append(chrm)\n",
    "            \n",
    "    def eval_fitness(self, indv):\n",
    "        \n",
    "        total_fitness = 0\n",
    "        \n",
    "        for i in range(len(indv.cities)-1):\n",
    "            total_fitness += math.dist([indv.cities[i].x, indv.cities[i].y], [indv.cities[i+1].x, indv.cities[i+1].y])\n",
    "            \n",
    "        return round(total_fitness)\n",
    "            \n",
    "    def fit(self):\n",
    "        \n",
    "        for indv in self.population:\n",
    "            indv.set_fitness(self.eval_fitness(indv))\n",
    "            \n",
    "        self.population.sort(key= lambda x: x.fitness)\n",
    "        \n",
    "        print(self.population)"
   ]
  },
  {
   "cell_type": "code",
   "execution_count": 268,
   "id": "0a8dee51",
   "metadata": {},
   "outputs": [],
   "source": [
    "path = \"xqf131\"\n",
    "t1 = TSP(path)\n",
    "\n",
    "ga = GeneticAlgorithm(100, t1)"
   ]
  },
  {
   "cell_type": "code",
   "execution_count": 269,
   "id": "0ff98f67",
   "metadata": {},
   "outputs": [
    {
     "name": "stdout",
     "output_type": "stream",
     "text": [
      "[(Fitness: 4031, [(0,13), (15,43)] ... [(41,34), (0,13)]), (Fitness: 4101, [(0,13), (10,10)] ... [(34,5), (0,13)]), (Fitness: 4157, [(0,13), (41,35)] ... [(18,29), (0,13)]), (Fitness: 4177, [(0,13), (28,16)] ... [(15,13), (0,13)]), (Fitness: 4290, [(0,13), (77,21)] ... [(71,11), (0,13)]), (Fitness: 4290, [(0,13), (18,31)] ... [(34,29), (0,13)]), (Fitness: 4320, [(0,13), (78,32)] ... [(28,16), (0,13)]), (Fitness: 4356, [(0,13), (15,25)] ... [(78,32), (0,13)]), (Fitness: 4362, [(0,13), (41,32)] ... [(15,43), (0,13)]), (Fitness: 4370, [(0,13), (71,13)] ... [(33,15), (0,13)]), (Fitness: 4389, [(0,13), (78,39)] ... [(74,12), (0,13)]), (Fitness: 4392, [(0,13), (28,40)] ... [(18,44), (0,13)]), (Fitness: 4396, [(0,13), (18,31)] ... [(18,37), (0,13)]), (Fitness: 4403, [(0,13), (25,11)] ... [(64,22), (0,13)]), (Fitness: 4404, [(0,13), (18,39)] ... [(10,10), (0,13)]), (Fitness: 4407, [(0,13), (15,13)] ... [(15,31), (0,13)]), (Fitness: 4414, [(0,13), (25,11)] ... [(15,8), (0,13)]), (Fitness: 4426, [(0,13), (18,11)] ... [(57,25), (0,13)]), (Fitness: 4430, [(0,13), (25,28)] ... [(2,0), (0,13)]), (Fitness: 4434, [(0,13), (56,25)] ... [(18,15), (0,13)]), (Fitness: 4435, [(0,13), (18,37)] ... [(18,35), (0,13)]), (Fitness: 4447, [(0,13), (0,39)] ... [(34,15), (0,13)]), (Fitness: 4461, [(0,13), (0,27)] ... [(34,26), (0,13)]), (Fitness: 4463, [(0,13), (28,47)] ... [(34,5), (0,13)]), (Fitness: 4464, [(0,13), (32,26)] ... [(0,39), (0,13)]), (Fitness: 4464, [(0,13), (12,5)] ... [(71,16), (0,13)]), (Fitness: 4468, [(0,13), (25,15)] ... [(79,10), (0,13)]), (Fitness: 4479, [(0,13), (74,16)] ... [(18,31), (0,13)]), (Fitness: 4489, [(0,13), (25,11)] ... [(5,13), (0,13)]), (Fitness: 4491, [(0,13), (63,6)] ... [(34,38), (0,13)]), (Fitness: 4498, [(0,13), (12,5)] ... [(74,20), (0,13)]), (Fitness: 4499, [(0,13), (38,30)] ... [(18,17), (0,13)]), (Fitness: 4502, [(0,13), (35,17)] ... [(0,39), (0,13)]), (Fitness: 4513, [(0,13), (33,29)] ... [(41,36), (0,13)]), (Fitness: 4516, [(0,13), (71,47)] ... [(61,45), (0,13)]), (Fitness: 4519, [(0,13), (25,15)] ... [(18,25), (0,13)]), (Fitness: 4520, [(0,13), (80,5)] ... [(18,17), (0,13)]), (Fitness: 4521, [(0,13), (28,34)] ... [(5,13), (0,13)]), (Fitness: 4528, [(0,13), (78,10)] ... [(71,47), (0,13)]), (Fitness: 4540, [(0,13), (71,47)] ... [(81,17), (0,13)]), (Fitness: 4548, [(0,13), (18,23)] ... [(78,32), (0,13)]), (Fitness: 4551, [(0,13), (79,10)] ... [(5,31), (0,13)]), (Fitness: 4553, [(0,13), (77,21)] ... [(51,47), (0,13)]), (Fitness: 4560, [(0,13), (84,38)] ... [(78,10), (0,13)]), (Fitness: 4563, [(0,13), (84,29)] ... [(80,5), (0,13)]), (Fitness: 4566, [(0,13), (41,36)] ... [(28,34), (0,13)]), (Fitness: 4578, [(0,13), (25,15)] ... [(74,39), (0,13)]), (Fitness: 4581, [(0,13), (11,10)] ... [(41,34), (0,13)]), (Fitness: 4583, [(0,13), (71,47)] ... [(15,19), (0,13)]), (Fitness: 4588, [(0,13), (34,5)] ... [(63,6), (0,13)]), (Fitness: 4589, [(0,13), (18,13)] ... [(18,35), (0,13)]), (Fitness: 4591, [(0,13), (18,33)] ... [(84,38), (0,13)]), (Fitness: 4594, [(0,13), (15,8)] ... [(34,29), (0,13)]), (Fitness: 4606, [(0,13), (51,47)] ... [(18,19), (0,13)]), (Fitness: 4607, [(0,13), (74,39)] ... [(18,21), (0,13)]), (Fitness: 4609, [(0,13), (38,30)] ... [(32,31), (0,13)]), (Fitness: 4610, [(0,13), (84,24)] ... [(2,0), (0,13)]), (Fitness: 4618, [(0,13), (25,9)] ... [(25,22), (0,13)]), (Fitness: 4657, [(0,13), (79,10)] ... [(61,45), (0,13)]), (Fitness: 4662, [(0,13), (28,28)] ... [(74,6), (0,13)]), (Fitness: 4687, [(0,13), (28,43)] ... [(28,28), (0,13)]), (Fitness: 4691, [(0,13), (84,38)] ... [(25,9), (0,13)]), (Fitness: 4693, [(0,13), (5,43)] ... [(64,22), (0,13)]), (Fitness: 4696, [(0,13), (61,47)] ... [(9,10), (0,13)]), (Fitness: 4705, [(0,13), (32,31)] ... [(18,17), (0,13)]), (Fitness: 4707, [(0,13), (5,19)] ... [(57,44), (0,13)]), (Fitness: 4712, [(0,13), (28,43)] ... [(84,6), (0,13)]), (Fitness: 4714, [(0,13), (25,9)] ... [(5,13), (0,13)]), (Fitness: 4732, [(0,13), (74,16)] ... [(84,20), (0,13)]), (Fitness: 4734, [(0,13), (32,26)] ... [(74,29), (0,13)]), (Fitness: 4736, [(0,13), (33,15)] ... [(25,22), (0,13)]), (Fitness: 4738, [(0,13), (18,13)] ... [(5,43), (0,13)]), (Fitness: 4741, [(0,13), (35,31)] ... [(79,37), (0,13)]), (Fitness: 4745, [(0,13), (34,29)] ... [(80,41), (0,13)]), (Fitness: 4758, [(0,13), (15,37)] ... [(57,44), (0,13)]), (Fitness: 4763, [(0,13), (71,16)] ... [(74,24), (0,13)]), (Fitness: 4766, [(0,13), (25,9)] ... [(9,10), (0,13)]), (Fitness: 4787, [(0,13), (41,32)] ... [(25,11), (0,13)]), (Fitness: 4798, [(0,13), (74,16)] ... [(40,22), (0,13)]), (Fitness: 4825, [(0,13), (79,33)] ... [(5,25), (0,13)]), (Fitness: 4827, [(0,13), (34,29)] ... [(35,31), (0,13)]), (Fitness: 4829, [(0,13), (34,41)] ... [(74,39), (0,13)]), (Fitness: 4834, [(0,13), (77,21)] ... [(28,47), (0,13)]), (Fitness: 4839, [(0,13), (18,42)] ... [(18,39), (0,13)]), (Fitness: 4839, [(0,13), (0,27)] ... [(80,41), (0,13)]), (Fitness: 4844, [(0,13), (18,35)] ... [(15,25), (0,13)]), (Fitness: 4851, [(0,13), (48,27)] ... [(18,19), (0,13)]), (Fitness: 4857, [(0,13), (18,13)] ... [(18,35), (0,13)]), (Fitness: 4860, [(0,13), (0,39)] ... [(32,31), (0,13)]), (Fitness: 4869, [(0,13), (34,5)] ... [(51,45), (0,13)]), (Fitness: 4901, [(0,13), (15,37)] ... [(71,13), (0,13)]), (Fitness: 4941, [(0,13), (28,43)] ... [(33,29), (0,13)]), (Fitness: 4956, [(0,13), (33,15)] ... [(61,45), (0,13)]), (Fitness: 4965, [(0,13), (74,39)] ... [(84,24), (0,13)]), (Fitness: 5000, [(0,13), (84,29)] ... [(74,20), (0,13)]), (Fitness: 5012, [(0,13), (18,42)] ... [(15,31), (0,13)]), (Fitness: 5022, [(0,13), (18,42)] ... [(71,16), (0,13)]), (Fitness: 5031, [(0,13), (15,43)] ... [(34,5), (0,13)]), (Fitness: 5089, [(0,13), (40,22)] ... [(84,24), (0,13)]), (Fitness: 5141, [(0,13), (15,13)] ... [(84,34), (0,13)])]\n"
     ]
    }
   ],
   "source": [
    "ga.fit()"
   ]
  },
  {
   "cell_type": "code",
   "execution_count": null,
   "id": "5d41830d",
   "metadata": {},
   "outputs": [],
   "source": []
  }
 ],
 "metadata": {
  "kernelspec": {
   "display_name": "Python 3 (ipykernel)",
   "language": "python",
   "name": "python3"
  },
  "language_info": {
   "codemirror_mode": {
    "name": "ipython",
    "version": 3
   },
   "file_extension": ".py",
   "mimetype": "text/x-python",
   "name": "python",
   "nbconvert_exporter": "python",
   "pygments_lexer": "ipython3",
   "version": "3.9.12"
  },
  "vscode": {
   "interpreter": {
    "hash": "ddb1ccdb55883fd11b689b106c4ebb44a93254d56f22b31674efc4c6d7769344"
   }
  }
 },
 "nbformat": 4,
 "nbformat_minor": 5
}
